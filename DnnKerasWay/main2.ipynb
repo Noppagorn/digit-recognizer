{
  "cells": [
    {
      "cell_type": "code",
      "execution_count": null,
      "id": "d0f004f7",
      "metadata": {
        "id": "d0f004f7"
      },
      "outputs": [],
      "source": [
        "# import\n",
        "import numpy as np # linear algebra\n",
        "import pandas as pd # data processing, CSV file I/O (e.g. pd.read_csv)\n",
        "import matplotlib.pyplot as plt\n",
        "%matplotlib inline\n",
        "\n",
        "from keras.models import Sequential\n",
        "from keras.layers import Dense , Dropout , Lambda, Flatten\n",
        "from keras.optimizers import Adam ,RMSprop\n",
        "from sklearn.model_selection import train_test_split\n",
        "from keras import  backend as K\n",
        "from keras.preprocessing.image import ImageDataGenerator\n",
        "from keras.utils.np_utils import to_categorical\n",
        "from keras.models import  Sequential\n",
        "from keras.layers.core import  Lambda , Dense, Flatten, Dropout\n",
        "from keras.callbacks import EarlyStopping\n",
        "from keras.layers import BatchNormalization, Convolution2D , MaxPooling2D\n",
        "from keras.optimizers import RMSprop\n",
        "from keras.preprocessing import image\n",
        "from sklearn.model_selection import train_test_split\n",
        "import matplotlib.pyplot as plt\n",
        "from keras.layers import Convolution2D, MaxPooling2D\n",
        "from tensorflow.keras.layers import BatchNormalization"
      ]
    },
    {
      "cell_type": "code",
      "execution_count": null,
      "id": "f87133cd",
      "metadata": {
        "id": "f87133cd"
      },
      "outputs": [],
      "source": [
        "# function \n",
        "\n",
        "def visualization(X_train):\n",
        "    X_train = X_train.reshape(X_train.shape[0], 28, 28)\n",
        "\n",
        "    for i in range(0, 9):\n",
        "        plt.subplot(330 + (i+1))\n",
        "        plt.imshow(X_train[i], cmap=plt.get_cmap('gray'))\n",
        "        plt.title(i);\n",
        "        \n",
        "\n",
        "def standardize(x): \n",
        "    return (x - mean_px)/std_px\n",
        "\n",
        "def pltGraph(y_train):\n",
        "    plt.title(y_train[9])\n",
        "    plt.plot(y_train[9])\n",
        "    plt.xticks(range(10));\n",
        "    \n",
        "    \n",
        "def plotResultGraph(history_dict):\n",
        "    plt.clf()\n",
        "    loss_values = history_dict['loss']\n",
        "    val_loss_values = history_dict['val_loss']\n",
        "    epochs = range(1, len(loss_values) + 1)\n",
        "\n",
        "    # \"bo\" is for \"blue dot\"\n",
        "    plt.plot(epochs, loss_values, 'bo')\n",
        "    # b+ is for \"blue crosses\"\n",
        "    plt.plot(epochs, val_loss_values, 'b+')\n",
        "    plt.xlabel('Epochs')\n",
        "    plt.ylabel('Loss')\n",
        "    \n",
        "    plt.show()\n",
        "    \n",
        "def getFcModel():\n",
        "    model = Sequential([\n",
        "        Lambda(standardize, input_shape=(28,28,1)),\n",
        "        Flatten(),\n",
        "        Dense(512, activation='relu'),\n",
        "        Dense(10, activation='softmax')\n",
        "    ])\n",
        "    model.compile(optimizer='Adam', \n",
        "                  loss=\"categorical_crossentropy\",\n",
        "                  metrics=['accuracy']\n",
        "                 )\n",
        "    model.optimizer.lr=0.01\n",
        "    return model\n",
        "\n",
        "def getCnnModel():\n",
        "    model = Sequential([\n",
        "        Lambda(standardize, input_shape=(28,28,1)),\n",
        "        Convolution2D(32,(3,3), activation='relu'),\n",
        "        Convolution2D(32,(3,3), activation='relu'),\n",
        "        MaxPooling2D(),\n",
        "        Convolution2D(64,(3,3), activation='relu'),\n",
        "        Convolution2D(64,(3,3), activation='relu'),\n",
        "        MaxPooling2D(),\n",
        "        Flatten(),\n",
        "        Dense(512, activation='relu'),\n",
        "        Dense(10, activation='softmax')\n",
        "        ])\n",
        "    model.compile(Adam(), loss='categorical_crossentropy',\n",
        "                  metrics=['accuracy'])\n",
        "    model.optimizer.lr=0.01\n",
        "    return model\n",
        "\n",
        "def getBnmodel():\n",
        "    model = Sequential([\n",
        "        Lambda(standardize, input_shape=(28,28,1)),\n",
        "        Convolution2D(32,(3,3), activation='relu'),\n",
        "        BatchNormalization(axis=1),\n",
        "        Convolution2D(32,(3,3), activation='relu'),\n",
        "        MaxPooling2D(),\n",
        "        BatchNormalization(axis=1),\n",
        "        Convolution2D(64,(3,3), activation='relu'),\n",
        "        BatchNormalization(axis=1),\n",
        "        Convolution2D(64,(3,3), activation='relu'),\n",
        "        MaxPooling2D(),\n",
        "        Flatten(),\n",
        "        BatchNormalization(),\n",
        "        Dense(512, activation='relu'),\n",
        "        BatchNormalization(),\n",
        "        Dense(10, activation='softmax')\n",
        "        ])\n",
        "    model.compile(Adam(), loss='categorical_crossentropy', metrics=['accuracy'])\n",
        "    model.optimizer.lr = 0.01\n",
        "    return model\n",
        "\n",
        "def getPredictionList(predictions):\n",
        "    prdictList = []\n",
        "    for i in range(0,len(predictions)):\n",
        "        prdictList.append(np.argmax(predictions[i]).astype(int))\n",
        "    return prdictList\n",
        "\n",
        "def createDataFrameFile(predictions):\n",
        "    predictionsDataFrame = pd.DataFrame({\n",
        "        \"ImageId\": list(range(1,len(predictions) + 1)),\n",
        "        \"Label\": getPredictionList(predictions),\n",
        "    })\n",
        "    return predictionsDataFrame"
      ]
    },
    {
      "cell_type": "code",
      "execution_count": null,
      "id": "d9c31d1a",
      "metadata": {
        "id": "d9c31d1a"
      },
      "outputs": [],
      "source": [
        "#import Data\n",
        "train = pd.read_csv(\"./input/train.csv\")\n",
        "test = pd.read_csv(\"./input/test.csv\")\n",
        "#train"
      ]
    },
    {
      "cell_type": "code",
      "execution_count": null,
      "id": "7576ce07",
      "metadata": {
        "id": "7576ce07"
      },
      "outputs": [],
      "source": [
        "X_train = (train.iloc[:,1:].values).astype(\"float32\") # all pixel values cut label\n",
        "y_train = train.iloc[:,0].values.astype(\"int32\") # get only lable \n",
        "X_test = test.values.astype(\"float32\")\n",
        "\n",
        "#define global variable\n",
        "mean_px = X_train.mean().astype(np.float32)\n",
        "std_px = X_train.std().astype(np.float32)\n",
        "seed = 43\n",
        "np.random.seed(seed)"
      ]
    },
    {
      "cell_type": "code",
      "execution_count": null,
      "id": "66b2eaf4",
      "metadata": {
        "id": "66b2eaf4"
      },
      "outputs": [],
      "source": [
        "#visualization(X_train) # visualization"
      ]
    },
    {
      "cell_type": "code",
      "execution_count": null,
      "id": "1cd53d21",
      "metadata": {
        "id": "1cd53d21",
        "outputId": "b10e158b-b350-4616-9c53-ab0f373be162"
      },
      "outputs": [
        {
          "data": {
            "image/png": "[encoded data removed]",
            "text/plain": [
              "<Figure size 432x288 with 9 Axes>"
            ]
          },
          "metadata": {
            "needs_background": "light"
          },
          "output_type": "display_data"
        }
      ],
      "source": [
        "visualization(X_test)"
      ]
    },
    {
      "cell_type": "code",
      "execution_count": null,
      "id": "2fea7c4f",
      "metadata": {
        "id": "2fea7c4f"
      },
      "outputs": [],
      "source": [
        "X_train = X_train.reshape(X_train.shape[0], 28, 28, 1)\n",
        "X_test = X_test.reshape(X_test.shape[0], 28, 28, 1)\n",
        "\n",
        "y_train = to_categorical(y_train)\n",
        "num_classes = y_train.shape[1]"
      ]
    },
    {
      "cell_type": "code",
      "execution_count": null,
      "id": "69073683",
      "metadata": {
        "id": "69073683"
      },
      "outputs": [],
      "source": [
        "# pltGraph(y_train)"
      ]
    },
    {
      "cell_type": "code",
      "execution_count": null,
      "id": "5e62b9de",
      "metadata": {
        "id": "5e62b9de"
      },
      "outputs": [],
      "source": [
        "#gen = image.ImageDataGenerator()"
      ]
    },
    {
      "cell_type": "code",
      "execution_count": null,
      "id": "1846baec",
      "metadata": {
        "id": "1846baec"
      },
      "outputs": [],
      "source": [
        "#Cross Validation\n",
        "X = X_train\n",
        "y = y_train\n",
        "X_train, X_val, y_train, y_val = train_test_split(X_train, y_train, test_size=0.10, random_state=42)\n",
        "gen = ImageDataGenerator(rescale=1/255,rotation_range=8, width_shift_range=0.08, shear_range=0.3,\n",
        "                               height_shift_range=0.08, zoom_range=0.08)\n",
        "batches = gen.flow(X_train, y_train, batch_size=64)\n",
        "val_batches = gen.flow(X_val, y_val, batch_size=64)"
      ]
    },
    {
      "cell_type": "code",
      "execution_count": null,
      "id": "6a127dc8",
      "metadata": {
        "scrolled": false,
        "id": "6a127dc8"
      },
      "outputs": [],
      "source": [
        "model = getBnmodel()\n",
        "batches = gen.flow(X, y, batch_size=64)\n",
        "# history = model.fit_generator(generator=batches, steps_per_epoch=batches.n, epochs=, verbose=0)"
      ]
    },
    {
      "cell_type": "code",
      "execution_count": null,
      "id": "2a27717f",
      "metadata": {
        "scrolled": false,
        "id": "2a27717f",
        "outputId": "e2802c95-f32d-485a-a61c-03700739f983"
      },
      "outputs": [
        {
          "name": "stdout",
          "output_type": "stream",
          "text": [
            "Epoch 1/10\n"
          ]
        },
        {
          "name": "stderr",
          "output_type": "stream",
          "text": [
            "C:\\Users\\tongn\\AppData\\Local\\Temp\\ipykernel_29560\\455495835.py:1: UserWarning: `Model.fit_generator` is deprecated and will be removed in a future version. Please use `Model.fit`, which supports generators.\n",
            "  history = model.fit_generator(generator=batches, steps_per_epoch=batches.n, epochs=10,\n"
          ]
        },
        {
          "name": "stdout",
          "output_type": "stream",
          "text": [
            "  657/42000 [..............................] - ETA: 40:39 - loss: 0.4551 - accuracy: 0.8587WARNING:tensorflow:Your input ran out of data; interrupting training. Make sure that your dataset or generator can generate at least `steps_per_epoch * epochs` batches (in this case, 420000 batches). You may need to use the repeat() function when building your dataset.\n",
            "WARNING:tensorflow:Your input ran out of data; interrupting training. Make sure that your dataset or generator can generate at least `steps_per_epoch * epochs` batches (in this case, 4200 batches). You may need to use the repeat() function when building your dataset.\n",
            "42000/42000 [==============================] - 41s 954us/step - loss: 0.4551 - accuracy: 0.8587 - val_loss: 28521.0508 - val_accuracy: 0.1121\n"
          ]
        }
      ],
      "source": [
        "history = model.fit_generator(generator=batches, steps_per_epoch=batches.n, epochs=10, \n",
        "                    validation_data=val_batches, validation_steps=val_batches.n)"
      ]
    },
    {
      "cell_type": "code",
      "execution_count": null,
      "id": "64c6a250",
      "metadata": {
        "id": "64c6a250",
        "outputId": "582aea5c-895b-4e6c-e5c0-32f2382e5040"
      },
      "outputs": [
        {
          "data": {
            "text/plain": [
              "{'loss': [0.4550585150718689],\n",
              " 'accuracy': [0.858738124370575],\n",
              " 'val_loss': [28521.05078125],\n",
              " 'val_accuracy': [0.11214285343885422]}"
            ]
          },
          "execution_count": 119,
          "metadata": {},
          "output_type": "execute_result"
        }
      ],
      "source": [
        "history.history"
      ]
    },
    {
      "cell_type": "code",
      "execution_count": null,
      "id": "a7eeba7e",
      "metadata": {
        "id": "a7eeba7e"
      },
      "outputs": [],
      "source": [
        "#plotResultGraph(history.history)"
      ]
    },
    {
      "cell_type": "code",
      "execution_count": null,
      "id": "0b6fecec",
      "metadata": {
        "id": "0b6fecec",
        "outputId": "a527591a-ecbe-4ea4-c6da-a4ee2908398a"
      },
      "outputs": [
        {
          "name": "stdout",
          "output_type": "stream",
          "text": [
            "875/875 [==============================] - 8s 9ms/step\n"
          ]
        }
      ],
      "source": [
        "# predict\n",
        "predictions = model.predict(X_test)"
      ]
    },
    {
      "cell_type": "code",
      "execution_count": null,
      "id": "a286732a",
      "metadata": {
        "id": "a286732a",
        "outputId": "4bfa3baa-751c-40a3-bcc4-84ae2b0955d0"
      },
      "outputs": [
        {
          "data": {
            "text/html": [
              "<div>\n",
              "<style scoped>\n",
              "    .dataframe tbody tr th:only-of-type {\n",
              "        vertical-align: middle;\n",
              "    }\n",
              "\n",
              "    .dataframe tbody tr th {\n",
              "        vertical-align: top;\n",
              "    }\n",
              "\n",
              "    .dataframe thead th {\n",
              "        text-align: right;\n",
              "    }\n",
              "</style>\n",
              "<table border=\"1\" class=\"dataframe\">\n",
              "  <thead>\n",
              "    <tr style=\"text-align: right;\">\n",
              "      <th></th>\n",
              "      <th>ImageId</th>\n",
              "      <th>Label</th>\n",
              "    </tr>\n",
              "  </thead>\n",
              "  <tbody>\n",
              "    <tr>\n",
              "      <th>0</th>\n",
              "      <td>1</td>\n",
              "      <td>1</td>\n",
              "    </tr>\n",
              "    <tr>\n",
              "      <th>1</th>\n",
              "      <td>2</td>\n",
              "      <td>1</td>\n",
              "    </tr>\n",
              "    <tr>\n",
              "      <th>2</th>\n",
              "      <td>3</td>\n",
              "      <td>5</td>\n",
              "    </tr>\n",
              "    <tr>\n",
              "      <th>3</th>\n",
              "      <td>4</td>\n",
              "      <td>5</td>\n",
              "    </tr>\n",
              "    <tr>\n",
              "      <th>4</th>\n",
              "      <td>5</td>\n",
              "      <td>6</td>\n",
              "    </tr>\n",
              "    <tr>\n",
              "      <th>5</th>\n",
              "      <td>6</td>\n",
              "      <td>1</td>\n",
              "    </tr>\n",
              "    <tr>\n",
              "      <th>6</th>\n",
              "      <td>7</td>\n",
              "      <td>1</td>\n",
              "    </tr>\n",
              "    <tr>\n",
              "      <th>7</th>\n",
              "      <td>8</td>\n",
              "      <td>1</td>\n",
              "    </tr>\n",
              "    <tr>\n",
              "      <th>8</th>\n",
              "      <td>9</td>\n",
              "      <td>1</td>\n",
              "    </tr>\n",
              "    <tr>\n",
              "      <th>9</th>\n",
              "      <td>10</td>\n",
              "      <td>5</td>\n",
              "    </tr>\n",
              "  </tbody>\n",
              "</table>\n",
              "</div>"
            ],
            "text/plain": [
              "   ImageId  Label\n",
              "0        1      1\n",
              "1        2      1\n",
              "2        3      5\n",
              "3        4      5\n",
              "4        5      6\n",
              "5        6      1\n",
              "6        7      1\n",
              "7        8      1\n",
              "8        9      1\n",
              "9       10      5"
            ]
          },
          "execution_count": 122,
          "metadata": {},
          "output_type": "execute_result"
        }
      ],
      "source": [
        "predictionsDataFrame = createDataFrameFile(predictions)\n",
        "predictionsDataFrame[0:10]"
      ]
    },
    {
      "cell_type": "code",
      "execution_count": null,
      "id": "74c90442",
      "metadata": {
        "id": "74c90442"
      },
      "outputs": [],
      "source": [
        "predictionsDataFrame.to_csv(\"DR.csv\", index=False, header=True)"
      ]
    },
    {
      "cell_type": "code",
      "execution_count": null,
      "id": "19643b57",
      "metadata": {
        "id": "19643b57"
      },
      "outputs": [],
      "source": []
    }
  ],
  "metadata": {
    "kernelspec": {
      "display_name": "Python 3 (ipykernel)",
      "language": "python",
      "name": "python3"
    },
    "language_info": {
      "codemirror_mode": {
        "name": "ipython",
        "version": 3
      },
      "file_extension": ".py",
      "mimetype": "text/x-python",
      "name": "python",
      "nbconvert_exporter": "python",
      "pygments_lexer": "ipython3",
      "version": "3.9.12"
    },
    "colab": {
      "provenance": []
    }
  },
  "nbformat": 4,
  "nbformat_minor": 5
}